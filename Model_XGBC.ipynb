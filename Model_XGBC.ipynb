{
 "cells": [
  {
   "cell_type": "code",
   "execution_count": 1,
   "id": "18aae01f",
   "metadata": {},
   "outputs": [],
   "source": [
    "import numpy as np\n",
    "import pandas as pd\n",
    "import sklearn \n",
    "from sklearn import svm\n",
    "from sklearn.model_selection import cross_val_score\n",
    "from sklearn.model_selection import train_test_split\n",
    "from sklearn.metrics import accuracy_score\n",
    "from sklearn.metrics import confusion_matrix\n",
    "from sklearn.model_selection import cross_validate\n",
    "import seaborn as sns\n",
    "import matplotlib.pyplot as plt\n",
    "from sklearn.decomposition import PCA\n",
    "from sklearn.metrics import auc, accuracy_score, confusion_matrix, mean_squared_error\n",
    "from sklearn.model_selection import cross_val_score, GridSearchCV, KFold, RandomizedSearchCV, train_test_split\n",
    "from sklearn.metrics import f1_score\n",
    "from sklearn.metrics import classification_report"
   ]
  },
  {
   "cell_type": "markdown",
   "id": "345c394d",
   "metadata": {},
   "source": [
    "Dades amb el data augmented. S'han agafat totes les metriques d'una arquitectura multilayer"
   ]
  },
  {
   "cell_type": "code",
   "execution_count": 2,
   "id": "d125a999",
   "metadata": {},
   "outputs": [],
   "source": [
    "clinic=pd.read_csv('clinic.csv')\n",
    "X1 = pd.read_csv('3_l_3_c_datav2_all.csv')\n",
    "X2 = pd.read_csv('3_l_3_c_datav2_aug_all.csv')\n",
    "X = pd.concat([X1, X2],ignore_index=True)\n",
    "y1 = pd.read_csv('groups.csv')\n",
    "y2 = pd.read_csv('groups.csv')\n",
    "y = pd.concat([y1, y2],ignore_index=True)\n",
    "y=y['mstype']\n",
    "#X['sex']=pd.concat(clinic['sex'],clinic['sex'])\n",
    "#X['age']=pd.concat(clinic['age'],clinic['age'])\n",
    "for i in range(len(y)):\n",
    "    if y[i]==2:\n",
    "        y[i]=1\n",
    "X = X.drop(columns=['Unnamed: 0','<built-in function id>'])\n",
    "y+=1        \n",
    "y=y.to_numpy()"
   ]
  },
  {
   "cell_type": "markdown",
   "id": "7e265264",
   "metadata": {},
   "source": [
    "PCA per reduir dimensionalitat. "
   ]
  },
  {
   "cell_type": "code",
   "execution_count": 3,
   "id": "6b8fc560",
   "metadata": {},
   "outputs": [
    {
     "data": {
      "text/plain": [
       "\"\\nplt.scatter(projected[:, 0], projected[:, 1],\\n            c=y, edgecolor='none', alpha=0.5)\\nplt.xlabel('component 1')\\nplt.ylabel('component 2')\\nplt.colorbar();\\n\""
      ]
     },
     "execution_count": 3,
     "metadata": {},
     "output_type": "execute_result"
    }
   ],
   "source": [
    "pca = PCA(150)  # project from 64 to 2 dimensions\n",
    "projected = pca.fit_transform(X)\n",
    "X = projected\n",
    "'''\n",
    "plt.scatter(projected[:, 0], projected[:, 1],\n",
    "            c=y, edgecolor='none', alpha=0.5)\n",
    "plt.xlabel('component 1')\n",
    "plt.ylabel('component 2')\n",
    "plt.colorbar();\n",
    "'''"
   ]
  },
  {
   "cell_type": "code",
   "execution_count": 4,
   "id": "99de365e",
   "metadata": {},
   "outputs": [],
   "source": [
    "from sklearn.decomposition import FactorAnalysis\n"
   ]
  },
  {
   "cell_type": "markdown",
   "id": "42bdd647",
   "metadata": {},
   "source": [
    "Es divideixen les dades en el grup de (Train + Validation) i el de test (20%)."
   ]
  },
  {
   "cell_type": "code",
   "execution_count": 5,
   "id": "f9f46b78",
   "metadata": {},
   "outputs": [],
   "source": [
    "X_train, X_test, y_train, y_test = train_test_split(\n",
    "    X, y, test_size=0.2, stratify = y, random_state=42)\n"
   ]
  },
  {
   "cell_type": "markdown",
   "id": "ddbe4f81",
   "metadata": {},
   "source": [
    "Execucions del model XGBC amb cross validation"
   ]
  },
  {
   "cell_type": "code",
   "execution_count": 9,
   "id": "8a03d877",
   "metadata": {},
   "outputs": [
    {
     "name": "stdout",
     "output_type": "stream",
     "text": [
      "              precision    recall  f1-score   support\n",
      "\n",
      "           0       0.50      0.60      0.55         5\n",
      "           1       0.95      0.88      0.92        43\n",
      "           2       0.71      1.00      0.83         5\n",
      "\n",
      "    accuracy                           0.87        53\n",
      "   macro avg       0.72      0.83      0.76        53\n",
      "weighted avg       0.89      0.87      0.87        53\n",
      "\n"
     ]
    },
    {
     "data": {
      "image/png": "[encoded data removed]",
      "text/plain": [
       "<Figure size 432x288 with 2 Axes>"
      ]
     },
     "metadata": {
      "needs_background": "light"
     },
     "output_type": "display_data"
    },
    {
     "name": "stdout",
     "output_type": "stream",
     "text": [
      "              precision    recall  f1-score   support\n",
      "\n",
      "           0       1.00      1.00      1.00         5\n",
      "           1       1.00      0.90      0.95        42\n",
      "           2       0.60      1.00      0.75         6\n",
      "\n",
      "    accuracy                           0.92        53\n",
      "   macro avg       0.87      0.97      0.90        53\n",
      "weighted avg       0.95      0.92      0.93        53\n",
      "\n"
     ]
    },
    {
     "data": {
      "image/png": "[encoded data removed]",
      "text/plain": [
       "<Figure size 432x288 with 2 Axes>"
      ]
     },
     "metadata": {
      "needs_background": "light"
     },
     "output_type": "display_data"
    },
    {
     "name": "stdout",
     "output_type": "stream",
     "text": [
      "              precision    recall  f1-score   support\n",
      "\n",
      "           0       0.83      1.00      0.91         5\n",
      "           1       1.00      0.95      0.98        42\n",
      "           2       0.86      1.00      0.92         6\n",
      "\n",
      "    accuracy                           0.96        53\n",
      "   macro avg       0.90      0.98      0.94        53\n",
      "weighted avg       0.97      0.96      0.96        53\n",
      "\n"
     ]
    },
    {
     "data": {
      "image/png": "[encoded data removed]",
      "text/plain": [
       "<Figure size 432x288 with 2 Axes>"
      ]
     },
     "metadata": {
      "needs_background": "light"
     },
     "output_type": "display_data"
    },
    {
     "name": "stdout",
     "output_type": "stream",
     "text": [
      "              precision    recall  f1-score   support\n",
      "\n",
      "           0       0.75      1.00      0.86         3\n",
      "           1       0.98      0.95      0.97        44\n",
      "           2       0.83      0.83      0.83         6\n",
      "\n",
      "    accuracy                           0.94        53\n",
      "   macro avg       0.85      0.93      0.89        53\n",
      "weighted avg       0.95      0.94      0.94        53\n",
      "\n"
     ]
    },
    {
     "data": {
      "image/png": "[encoded data removed]",
      "text/plain": [
       "<Figure size 432x288 with 2 Axes>"
      ]
     },
     "metadata": {
      "needs_background": "light"
     },
     "output_type": "display_data"
    },
    {
     "name": "stdout",
     "output_type": "stream",
     "text": [
      "              precision    recall  f1-score   support\n",
      "\n",
      "           0       0.75      1.00      0.86         6\n",
      "           1       1.00      0.95      0.97        41\n",
      "           2       1.00      1.00      1.00         5\n",
      "\n",
      "    accuracy                           0.96        52\n",
      "   macro avg       0.92      0.98      0.94        52\n",
      "weighted avg       0.97      0.96      0.96        52\n",
      "\n"
     ]
    },
    {
     "data": {
      "image/png": "[encoded data removed]",
      "text/plain": [
       "<Figure size 432x288 with 2 Axes>"
      ]
     },
     "metadata": {
      "needs_background": "light"
     },
     "output_type": "display_data"
    }
   ],
   "source": [
    "import xgboost as xgb\n",
    "kfold = KFold(n_splits=5, shuffle=True, random_state=42)\n",
    "\n",
    "models = []\n",
    "scores = []\n",
    "\n",
    "\n",
    "for train_index, val_index in kfold.split(X_train):   \n",
    "    X_train_fold, X_val_fold = X_train[train_index], X_train[val_index]\n",
    "    y_train_fold, y_val_fold = y_train[train_index], y_train[val_index]\n",
    "\n",
    "    xgb_model = xgb.XGBClassifier(learning_rate=0.15,objective=\"multi:softprob\", random_state=42)\n",
    "    xgb_model.fit(X_train_fold, y_train_fold)\n",
    "    \n",
    "    y_pred = xgb_model.predict(X_val_fold)\n",
    "    \n",
    "    print(classification_report(y_pred,y_val_fold))\n",
    "    models.append(xgb_model)\n",
    "    cf_matrix=confusion_matrix(y_val_fold,y_pred)\n",
    "\n",
    "    ax = sns.heatmap(cf_matrix, annot=True, cmap='Blues')\n",
    "\n",
    "    ax.set_title('Seaborn Confusion Matrix with labels\\n\\n');\n",
    "    ax.set_xlabel('\\nPredicted Values')\n",
    "    ax.set_ylabel('Actual Values ');\n",
    "\n",
    "    ## Display the visualization of the Confusion Matrix.\n",
    "    plt.show()\n",
    "    \n",
    "\n",
    "\n",
    "\n",
    "\n"
   ]
  },
  {
   "cell_type": "markdown",
   "id": "852d3c24",
   "metadata": {},
   "source": [
    "El millor model es el de la 5a execució"
   ]
  },
  {
   "cell_type": "code",
   "execution_count": null,
   "id": "6b941fc0",
   "metadata": {},
   "outputs": [],
   "source": [
    "'''\n",
    "k=False\n",
    "for train_index, val_index  in kfold.split(X_train):\n",
    "    if k==False:\n",
    "        k=True\n",
    "        X_train_fold, X_val_fold = X_train[train_index], X_train[val_index]\n",
    "        y_train_fold, y_val_fold = y_train[train_index], y_train[val_index]\n",
    "xgb_model=models[0]\n",
    "y_pred = xgb_model.predict(X_val_fold)\n",
    "    \n",
    "print(accuracy_score(y_pred,y_val_fold))\n",
    "cf_matrix=confusion_matrix(y_val_fold,y_pred)\n",
    "\n",
    "ax = sns.heatmap(cf_matrix, annot=True, cmap='Blues')\n",
    "\n",
    "ax.set_title('Seaborn Confusion Matrix with labels\\n\\n');\n",
    "ax.set_xlabel('\\nPredicted Values')\n",
    "ax.set_ylabel('Actual Values ');\n",
    "\n",
    "## Display the visualization of the Confusion Matrix.\n",
    "plt.show()\n",
    "'''"
   ]
  },
  {
   "cell_type": "markdown",
   "id": "98256c69",
   "metadata": {},
   "source": [
    "# Test"
   ]
  },
  {
   "cell_type": "markdown",
   "id": "3141c9b8",
   "metadata": {},
   "source": [
    "Executem el test al millor model"
   ]
  },
  {
   "cell_type": "code",
   "execution_count": 14,
   "id": "105ac316",
   "metadata": {},
   "outputs": [
    {
     "name": "stdout",
     "output_type": "stream",
     "text": [
      "              precision    recall  f1-score   support\n",
      "\n",
      "           0       0.71      0.83      0.77         6\n",
      "           1       0.98      0.92      0.95        53\n",
      "           2       0.78      1.00      0.88         7\n",
      "\n",
      "    accuracy                           0.92        66\n",
      "   macro avg       0.82      0.92      0.87        66\n",
      "weighted avg       0.93      0.92      0.93        66\n",
      "\n"
     ]
    },
    {
     "data": {
      "image/png": "[encoded data removed]",
      "text/plain": [
       "<Figure size 432x288 with 2 Axes>"
      ]
     },
     "metadata": {
      "needs_background": "light"
     },
     "output_type": "display_data"
    }
   ],
   "source": [
    "xgb_model=models[4]\n",
    "y_pred = xgb_model.predict(X_test)\n",
    "    \n",
    "print(classification_report(y_pred,y_test))\n",
    "\n",
    "cf_matrix=confusion_matrix(y_test,y_pred)\n",
    "\n",
    "ax = sns.heatmap(cf_matrix, annot=True, cmap='Blues')\n",
    "\n",
    "ax.set_title('Seaborn Confusion Matrix with labels\\n\\n');\n",
    "ax.set_xlabel('\\nPredicted Values')\n",
    "ax.set_ylabel('Actual Values ');\n",
    "\n",
    "## Display the visualization of the Confusion Matrix.\n",
    "plt.show()"
   ]
  },
  {
   "cell_type": "markdown",
   "id": "1f8a9f7d",
   "metadata": {},
   "source": [
    "# Classe 0 = Sans\n",
    "# Classe 1 = RRMS\n",
    "# Classe 2 = PPMS+SPMS\n",
    "Els resultats semblen tenir ja una mica de sentit. Caldrien metriques per comparar amb altres models. Accuracy no es el més adequat d'utilitzar perque les classes estan molt desbalancejades."
   ]
  },
  {
   "cell_type": "code",
   "execution_count": null,
   "id": "0df70401",
   "metadata": {},
   "outputs": [],
   "source": []
  }
 ],
 "metadata": {
  "kernelspec": {
   "display_name": "Python 3",
   "language": "python",
   "name": "python3"
  },
  "language_info": {
   "codemirror_mode": {
    "name": "ipython",
    "version": 3
   },
   "file_extension": ".py",
   "mimetype": "text/x-python",
   "name": "python",
   "nbconvert_exporter": "python",
   "pygments_lexer": "ipython3",
   "version": "3.8.8"
  }
 },
 "nbformat": 4,
 "nbformat_minor": 5
}
