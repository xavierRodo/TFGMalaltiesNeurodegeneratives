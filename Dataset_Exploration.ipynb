{
 "cells": [
  {
   "cell_type": "code",
   "execution_count": 1,
   "id": "a3b3c009",
   "metadata": {},
   "outputs": [],
   "source": [
    "import pandas as pd\n",
    "import numpy as np\n",
    "import math"
   ]
  },
  {
   "cell_type": "code",
   "execution_count": 2,
   "id": "e56b44c5",
   "metadata": {},
   "outputs": [],
   "source": [
    "clinic=pd.read_csv('clinic.csv')                      #Read volunteers + patients data\n",
    "clinic.loc[clinic['mstype'] == -1, 'mstype'] ='HV'    #Change number MS group representation by letters\n",
    "clinic.loc[clinic['mstype'] == 0, 'mstype'] ='RRMS'\n",
    "clinic.loc[clinic['mstype'] == 1, 'mstype'] ='PPMS'\n",
    "clinic.loc[clinic['mstype'] == 2, 'mstype'] ='SPMS'\n",
    "clinic.loc[clinic['sex'] == 0, 'sex'] ='Female'       #Change sex code for string\n",
    "clinic.loc[clinic['sex'] == 1, 'sex'] ='Male'\n",
    "#clinic.groupby(['mstype','sex']).count()\n"
   ]
  },
  {
   "cell_type": "markdown",
   "id": "760b1a3d",
   "metadata": {},
   "source": [
    "## Mean:\n",
    "### Age, sex and edss by group"
   ]
  },
  {
   "cell_type": "code",
   "execution_count": 3,
   "id": "e878805e",
   "metadata": {},
   "outputs": [
    {
     "data": {
      "text/html": [
       "<div>\n",
       "<style scoped>\n",
       "    .dataframe tbody tr th:only-of-type {\n",
       "        vertical-align: middle;\n",
       "    }\n",
       "\n",
       "    .dataframe tbody tr th {\n",
       "        vertical-align: top;\n",
       "    }\n",
       "\n",
       "    .dataframe thead th {\n",
       "        text-align: right;\n",
       "    }\n",
       "</style>\n",
       "<table border=\"1\" class=\"dataframe\">\n",
       "  <thead>\n",
       "    <tr style=\"text-align: right;\">\n",
       "      <th></th>\n",
       "      <th>age</th>\n",
       "      <th>edss</th>\n",
       "    </tr>\n",
       "    <tr>\n",
       "      <th>mstype</th>\n",
       "      <th></th>\n",
       "      <th></th>\n",
       "    </tr>\n",
       "  </thead>\n",
       "  <tbody>\n",
       "    <tr>\n",
       "      <th>HV</th>\n",
       "      <td>36.617906</td>\n",
       "      <td>0.000000</td>\n",
       "    </tr>\n",
       "    <tr>\n",
       "      <th>PPMS</th>\n",
       "      <td>56.819375</td>\n",
       "      <td>5.812500</td>\n",
       "    </tr>\n",
       "    <tr>\n",
       "      <th>RRMS</th>\n",
       "      <td>45.664800</td>\n",
       "      <td>2.112000</td>\n",
       "    </tr>\n",
       "    <tr>\n",
       "      <th>SPMS</th>\n",
       "      <td>56.720000</td>\n",
       "      <td>5.666667</td>\n",
       "    </tr>\n",
       "  </tbody>\n",
       "</table>\n",
       "</div>"
      ],
      "text/plain": [
       "              age      edss\n",
       "mstype                     \n",
       "HV      36.617906  0.000000\n",
       "PPMS    56.819375  5.812500\n",
       "RRMS    45.664800  2.112000\n",
       "SPMS    56.720000  5.666667"
      ]
     },
     "execution_count": 3,
     "metadata": {},
     "output_type": "execute_result"
    }
   ],
   "source": [
    "clinic=clinic.drop(columns=['dd','id','redcap_event_name','controls_ms','dob','msonset','nrldate','dmd','uGMSSS','oGMSSS','sdmt','sdmtz','pasat','zpasat','zverbalmemory','zvisualmemory','zattention','zfluency','zglobal','FA','GM','RF'])\n",
    "clinic.groupby('mstype').mean().drop(columns='Unnamed: 0')"
   ]
  },
  {
   "cell_type": "markdown",
   "id": "a18bae72",
   "metadata": {},
   "source": [
    "## Standard deviation:\n",
    "### Age, sex and edss by group"
   ]
  },
  {
   "cell_type": "code",
   "execution_count": 4,
   "id": "7b6ab615",
   "metadata": {},
   "outputs": [
    {
     "data": {
      "text/html": [
       "<div>\n",
       "<style scoped>\n",
       "    .dataframe tbody tr th:only-of-type {\n",
       "        vertical-align: middle;\n",
       "    }\n",
       "\n",
       "    .dataframe tbody tr th {\n",
       "        vertical-align: top;\n",
       "    }\n",
       "\n",
       "    .dataframe thead th {\n",
       "        text-align: right;\n",
       "    }\n",
       "</style>\n",
       "<table border=\"1\" class=\"dataframe\">\n",
       "  <thead>\n",
       "    <tr style=\"text-align: right;\">\n",
       "      <th></th>\n",
       "      <th>age</th>\n",
       "      <th>edss</th>\n",
       "    </tr>\n",
       "    <tr>\n",
       "      <th>mstype</th>\n",
       "      <th></th>\n",
       "      <th></th>\n",
       "    </tr>\n",
       "  </thead>\n",
       "  <tbody>\n",
       "    <tr>\n",
       "      <th>HV</th>\n",
       "      <td>9.602639</td>\n",
       "      <td>0.000000</td>\n",
       "    </tr>\n",
       "    <tr>\n",
       "      <th>PPMS</th>\n",
       "      <td>9.953088</td>\n",
       "      <td>0.928709</td>\n",
       "    </tr>\n",
       "    <tr>\n",
       "      <th>RRMS</th>\n",
       "      <td>9.482759</td>\n",
       "      <td>1.099604</td>\n",
       "    </tr>\n",
       "    <tr>\n",
       "      <th>SPMS</th>\n",
       "      <td>3.852469</td>\n",
       "      <td>1.080123</td>\n",
       "    </tr>\n",
       "  </tbody>\n",
       "</table>\n",
       "</div>"
      ],
      "text/plain": [
       "             age      edss\n",
       "mstype                    \n",
       "HV      9.602639  0.000000\n",
       "PPMS    9.953088  0.928709\n",
       "RRMS    9.482759  1.099604\n",
       "SPMS    3.852469  1.080123"
      ]
     },
     "execution_count": 4,
     "metadata": {},
     "output_type": "execute_result"
    }
   ],
   "source": [
    "clinic.groupby('mstype').std().drop(columns='Unnamed: 0')"
   ]
  },
  {
   "cell_type": "markdown",
   "id": "46fc8211",
   "metadata": {},
   "source": [
    "## Sex count"
   ]
  },
  {
   "cell_type": "code",
   "execution_count": 5,
   "id": "1924ba6d",
   "metadata": {},
   "outputs": [
    {
     "data": {
      "text/html": [
       "<div>\n",
       "<style scoped>\n",
       "    .dataframe tbody tr th:only-of-type {\n",
       "        vertical-align: middle;\n",
       "    }\n",
       "\n",
       "    .dataframe tbody tr th {\n",
       "        vertical-align: top;\n",
       "    }\n",
       "\n",
       "    .dataframe thead th {\n",
       "        text-align: right;\n",
       "    }\n",
       "</style>\n",
       "<table border=\"1\" class=\"dataframe\">\n",
       "  <thead>\n",
       "    <tr style=\"text-align: right;\">\n",
       "      <th></th>\n",
       "      <th></th>\n",
       "      <th>Unnamed: 0</th>\n",
       "    </tr>\n",
       "    <tr>\n",
       "      <th>mstype</th>\n",
       "      <th>sex</th>\n",
       "      <th></th>\n",
       "    </tr>\n",
       "  </thead>\n",
       "  <tbody>\n",
       "    <tr>\n",
       "      <th rowspan=\"2\" valign=\"top\">HV</th>\n",
       "      <th>Female</th>\n",
       "      <td>15</td>\n",
       "    </tr>\n",
       "    <tr>\n",
       "      <th>Male</th>\n",
       "      <td>3</td>\n",
       "    </tr>\n",
       "    <tr>\n",
       "      <th rowspan=\"2\" valign=\"top\">PPMS</th>\n",
       "      <th>Female</th>\n",
       "      <td>10</td>\n",
       "    </tr>\n",
       "    <tr>\n",
       "      <th>Male</th>\n",
       "      <td>6</td>\n",
       "    </tr>\n",
       "    <tr>\n",
       "      <th rowspan=\"2\" valign=\"top\">RRMS</th>\n",
       "      <th>Female</th>\n",
       "      <td>90</td>\n",
       "    </tr>\n",
       "    <tr>\n",
       "      <th>Male</th>\n",
       "      <td>35</td>\n",
       "    </tr>\n",
       "    <tr>\n",
       "      <th rowspan=\"2\" valign=\"top\">SPMS</th>\n",
       "      <th>Female</th>\n",
       "      <td>4</td>\n",
       "    </tr>\n",
       "    <tr>\n",
       "      <th>Male</th>\n",
       "      <td>2</td>\n",
       "    </tr>\n",
       "  </tbody>\n",
       "</table>\n",
       "</div>"
      ],
      "text/plain": [
       "               Unnamed: 0\n",
       "mstype sex               \n",
       "HV     Female          15\n",
       "       Male             3\n",
       "PPMS   Female          10\n",
       "       Male             6\n",
       "RRMS   Female          90\n",
       "       Male            35\n",
       "SPMS   Female           4\n",
       "       Male             2"
      ]
     },
     "execution_count": 5,
     "metadata": {},
     "output_type": "execute_result"
    }
   ],
   "source": [
    "clinic.groupby(['mstype','sex']).count().drop(columns=['age','edss'])"
   ]
  },
  {
   "cell_type": "markdown",
   "id": "638ddc6b",
   "metadata": {},
   "source": [
    "## Total data per group"
   ]
  },
  {
   "cell_type": "code",
   "execution_count": 6,
   "id": "605df8b7",
   "metadata": {},
   "outputs": [
    {
     "data": {
      "text/html": [
       "<div>\n",
       "<style scoped>\n",
       "    .dataframe tbody tr th:only-of-type {\n",
       "        vertical-align: middle;\n",
       "    }\n",
       "\n",
       "    .dataframe tbody tr th {\n",
       "        vertical-align: top;\n",
       "    }\n",
       "\n",
       "    .dataframe thead th {\n",
       "        text-align: right;\n",
       "    }\n",
       "</style>\n",
       "<table border=\"1\" class=\"dataframe\">\n",
       "  <thead>\n",
       "    <tr style=\"text-align: right;\">\n",
       "      <th></th>\n",
       "      <th>Unnamed: 0</th>\n",
       "    </tr>\n",
       "    <tr>\n",
       "      <th>mstype</th>\n",
       "      <th></th>\n",
       "    </tr>\n",
       "  </thead>\n",
       "  <tbody>\n",
       "    <tr>\n",
       "      <th>HV</th>\n",
       "      <td>18</td>\n",
       "    </tr>\n",
       "    <tr>\n",
       "      <th>PPMS</th>\n",
       "      <td>16</td>\n",
       "    </tr>\n",
       "    <tr>\n",
       "      <th>RRMS</th>\n",
       "      <td>125</td>\n",
       "    </tr>\n",
       "    <tr>\n",
       "      <th>SPMS</th>\n",
       "      <td>6</td>\n",
       "    </tr>\n",
       "  </tbody>\n",
       "</table>\n",
       "</div>"
      ],
      "text/plain": [
       "        Unnamed: 0\n",
       "mstype            \n",
       "HV              18\n",
       "PPMS            16\n",
       "RRMS           125\n",
       "SPMS             6"
      ]
     },
     "execution_count": 6,
     "metadata": {},
     "output_type": "execute_result"
    }
   ],
   "source": [
    "clinic.groupby('mstype').count().drop(columns=['age','sex','edss'])"
   ]
  },
  {
   "cell_type": "markdown",
   "id": "0a4c597c",
   "metadata": {},
   "source": [
    "## Dataset Resume"
   ]
  },
  {
   "cell_type": "code",
   "execution_count": 7,
   "id": "1b52a4e2",
   "metadata": {},
   "outputs": [
    {
     "data": {
      "text/html": [
       "<div>\n",
       "<style scoped>\n",
       "    .dataframe tbody tr th:only-of-type {\n",
       "        vertical-align: middle;\n",
       "    }\n",
       "\n",
       "    .dataframe tbody tr th {\n",
       "        vertical-align: top;\n",
       "    }\n",
       "\n",
       "    .dataframe thead th {\n",
       "        text-align: right;\n",
       "    }\n",
       "</style>\n",
       "<table border=\"1\" class=\"dataframe\">\n",
       "  <thead>\n",
       "    <tr style=\"text-align: right;\">\n",
       "      <th></th>\n",
       "      <th>Number</th>\n",
       "      <th>Age, Years</th>\n",
       "      <th>Females, n(%)</th>\n",
       "      <th>EDSS</th>\n",
       "    </tr>\n",
       "    <tr>\n",
       "      <th>MS type</th>\n",
       "      <th></th>\n",
       "      <th></th>\n",
       "      <th></th>\n",
       "      <th></th>\n",
       "    </tr>\n",
       "  </thead>\n",
       "  <tbody>\n",
       "    <tr>\n",
       "      <th>Healthy volunteers</th>\n",
       "      <td>18</td>\n",
       "      <td>36.62±9.60</td>\n",
       "      <td>15(83,33)</td>\n",
       "      <td>--</td>\n",
       "    </tr>\n",
       "    <tr>\n",
       "      <th>RRMS</th>\n",
       "      <td>125</td>\n",
       "      <td>45.66±9.48</td>\n",
       "      <td>90(72,00)</td>\n",
       "      <td>2.11±1.10</td>\n",
       "    </tr>\n",
       "    <tr>\n",
       "      <th>SPMS</th>\n",
       "      <td>16</td>\n",
       "      <td>56.82±9.95</td>\n",
       "      <td>10(62,50)</td>\n",
       "      <td>5.81±0,93</td>\n",
       "    </tr>\n",
       "    <tr>\n",
       "      <th>PPMS</th>\n",
       "      <td>6</td>\n",
       "      <td>56.72±3.85</td>\n",
       "      <td>4(66,66)</td>\n",
       "      <td>5.66±1.08</td>\n",
       "    </tr>\n",
       "  </tbody>\n",
       "</table>\n",
       "</div>"
      ],
      "text/plain": [
       "                   Number  Age, Years Females, n(%)       EDSS\n",
       "MS type                                                       \n",
       "Healthy volunteers     18  36.62±9.60     15(83,33)         --\n",
       "RRMS                  125  45.66±9.48     90(72,00)  2.11±1.10\n",
       "SPMS                   16  56.82±9.95     10(62,50)  5.81±0,93\n",
       "PPMS                    6  56.72±3.85      4(66,66)  5.66±1.08"
      ]
     },
     "execution_count": 7,
     "metadata": {},
     "output_type": "execute_result"
    }
   ],
   "source": [
    "resultats=pd.DataFrame(columns=['MS type','Number', 'Age, Years', 'Females, n(%)', 'EDSS'])\n",
    "resultats.loc[0] = pd.Series({'MS type':'Healthy volunteers', 'Number':'18','Age, Years':'36.62±9.60', 'Females, n(%)':'15(83,33)',  'EDSS':'--'})\n",
    "resultats.loc[1] = pd.Series({'MS type':'RRMS','Number':'125', 'Age, Years':'45.66±9.48', 'Females, n(%)':'90(72,00)',  'EDSS':'2.11±1.10'})\n",
    "resultats.loc[2] = pd.Series({'MS type':'SPMS', 'Number':'16','Age, Years':'56.82±9.95', 'Females, n(%)':'10(62,50)',  'EDSS':'5.81±0,93'})\n",
    "resultats.loc[3] = pd.Series({'MS type':'PPMS', 'Number':'6','Age, Years':'56.72±3.85', 'Females, n(%)':'4(66,66)',  'EDSS':'5.66±1.08'})\n",
    "\n",
    "resultats.set_index('MS type')"
   ]
  }
 ],
 "metadata": {
  "kernelspec": {
   "display_name": "Python 3",
   "language": "python",
   "name": "python3"
  },
  "language_info": {
   "codemirror_mode": {
    "name": "ipython",
    "version": 3
   },
   "file_extension": ".py",
   "mimetype": "text/x-python",
   "name": "python",
   "nbconvert_exporter": "python",
   "pygments_lexer": "ipython3",
   "version": "3.8.8"
  }
 },
 "nbformat": 4,
 "nbformat_minor": 5
}
